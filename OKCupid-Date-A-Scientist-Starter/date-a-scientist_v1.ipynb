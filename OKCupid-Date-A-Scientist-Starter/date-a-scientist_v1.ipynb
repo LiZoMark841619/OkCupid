{
 "cells": [
  {
   "cell_type": "markdown",
   "metadata": {},
   "source": [
    "`Importing modules`"
   ]
  },
  {
   "cell_type": "code",
   "execution_count": 1,
   "metadata": {},
   "outputs": [],
   "source": [
    "class Valid:\n",
    "    \n",
    "    def get_valid_number(self, prompt: str, min_val: int, max_val: int) -> int:\n",
    "        while True:\n",
    "            try:\n",
    "                value = int(input(prompt))\n",
    "                if min_val <= value <= max_val: return value\n",
    "                print('Enter a valid number! ')\n",
    "            except ValueError: print('Try again with a valid input (number)! ')"
   ]
  },
  {
   "cell_type": "code",
   "execution_count": 2,
   "metadata": {},
   "outputs": [],
   "source": [
    "class OptionsSetting:\n",
    "\n",
    "    def start_process(self) -> None:\n",
    "        print('Please choice from the options below\\n')\n",
    "\n",
    "    def set_options(self):\n",
    "        self.options = {1:'Add item', 2:'View cart', 3:'Remove item', 4:'Edit item', 5:'Undo last removal', 6:'View budget', 7:'Exit'}\n",
    "        \n",
    "    def get_options(self) -> dict:\n",
    "        return self.options"
   ]
  },
  {
   "cell_type": "code",
   "execution_count": 3,
   "metadata": {},
   "outputs": [],
   "source": [
    "class Choice(OptionsSetting):\n",
    "    \n",
    "    def choice(self) -> str:\n",
    "        self.start_process(), self.set_options()\n",
    "        choices = self.get_options()\n",
    "        print(choices)\n",
    "        while True:\n",
    "            try:\n",
    "                option = int(input('Enter your choice: '))\n",
    "                if option in choices: return choices[option]\n",
    "                print('Invalid key, try again! ')\n",
    "            except ValueError: print('Try again with a valid input (number)! ')\n",
    "        "
   ]
  },
  {
   "cell_type": "code",
   "execution_count": 4,
   "metadata": {},
   "outputs": [],
   "source": [
    "class Budget(Valid):\n",
    "    \n",
    "    def set_budget(self) -> None:\n",
    "        self.budget = self.get_valid_number('Enter your budget from 10 to 1000! ', 10, 1000)\n",
    "        \n",
    "    def get_budget(self) -> int:\n",
    "        return self.budget"
   ]
  },
  {
   "cell_type": "code",
   "execution_count": 72,
   "metadata": {},
   "outputs": [],
   "source": [
    "class Operations(Choice, Valid):\n",
    "    cart = []\n",
    "    \n",
    "    def set_budget(self) -> None:\n",
    "        money_available = Budget()\n",
    "        money_available.set_budget()\n",
    "        self.budget = money_available.get_budget()\n",
    "        \n",
    "    def get_budget(self) -> int:\n",
    "        return self.budget\n",
    "    \n",
    "    def set_item(self):\n",
    "        self.item_name = input('Enter the name of the item! ')\n",
    "        self.item_price = self.get_valid_number('Enter the price of the item from 1 to 100 USD dollars! ', 1, 100)\n",
    "    \n",
    "    def get_item(self) -> tuple:\n",
    "        return (self.item_name, self.item_price)\n",
    "    \n",
    "    def add_item(self) -> None:\n",
    "        name, price = self.get_item()\n",
    "        max_amount = self.get_budget()/price\n",
    "        amount = self.get_valid_number(f'Enter the amount of the item from 1 to {max_amount} to add to cart! ', 1, max_amount)\n",
    "        Operations.cart.append({'name': name, 'price':price, 'amount':amount})\n",
    "        self.cart = Operations.cart\n",
    "\n",
    "    def view_cart(self) -> list:\n",
    "        return self.cart\n",
    "    \n",
    "    def remove_item(self):\n",
    "        items = self.view_cart()\n",
    "        for item in items:\n",
    "            if input('Enter the item you would like to remove! ').lower() == item['name']:\n",
    "                items.remove(item)\n",
    "    \n",
    "    def edit_item(self): pass\n",
    "    def undo_removal(self): pass\n",
    "    def view_budget(self): pass    \n",
    "    def exit(self): pass\n",
    "    "
   ]
  },
  {
   "cell_type": "code",
   "execution_count": 73,
   "metadata": {},
   "outputs": [
    {
     "data": {
      "text/plain": [
       "150"
      ]
     },
     "execution_count": 73,
     "metadata": {},
     "output_type": "execute_result"
    }
   ],
   "source": [
    "some = Operations()\n",
    "some.set_budget()\n",
    "some.get_budget()"
   ]
  },
  {
   "cell_type": "code",
   "execution_count": 74,
   "metadata": {},
   "outputs": [
    {
     "data": {
      "text/plain": [
       "('apple', 4)"
      ]
     },
     "execution_count": 74,
     "metadata": {},
     "output_type": "execute_result"
    }
   ],
   "source": [
    "some.set_item()\n",
    "some.get_item()"
   ]
  },
  {
   "cell_type": "code",
   "execution_count": 75,
   "metadata": {},
   "outputs": [
    {
     "data": {
      "text/plain": [
       "[{'name': 'apple', 'price': 4, 'amount': 15}]"
      ]
     },
     "execution_count": 75,
     "metadata": {},
     "output_type": "execute_result"
    }
   ],
   "source": [
    "some.add_item()\n",
    "some.view_cart()"
   ]
  },
  {
   "cell_type": "code",
   "execution_count": 76,
   "metadata": {},
   "outputs": [],
   "source": [
    "some.remove_item()"
   ]
  },
  {
   "cell_type": "code",
   "execution_count": 77,
   "metadata": {},
   "outputs": [
    {
     "data": {
      "text/plain": [
       "[]"
      ]
     },
     "execution_count": 77,
     "metadata": {},
     "output_type": "execute_result"
    }
   ],
   "source": [
    "some.view_cart()"
   ]
  },
  {
   "cell_type": "code",
   "execution_count": null,
   "metadata": {},
   "outputs": [],
   "source": [
    "process = Choice()\n",
    "process.choice()"
   ]
  },
  {
   "cell_type": "code",
   "execution_count": null,
   "metadata": {},
   "outputs": [],
   "source": [
    "budget = Budget()\n",
    "budget.set_budget()\n",
    "budget.get_budget()"
   ]
  },
  {
   "cell_type": "code",
   "execution_count": null,
   "metadata": {},
   "outputs": [],
   "source": []
  },
  {
   "cell_type": "code",
   "execution_count": null,
   "metadata": {},
   "outputs": [],
   "source": []
  },
  {
   "cell_type": "code",
   "execution_count": null,
   "metadata": {},
   "outputs": [],
   "source": [
    "def main():\n",
    "    global budget, removed_item  \n",
    "    budget = int(input(\"Enter your budget: \"))\n",
    "    if budget <0:\n",
    "        print(\"Dont go below 0, Please enter a budget higher than 0\")\n",
    "        main()\n",
    "    \n",
    "    while True:\n",
    "        print(\"\\nShopping Cart Application\")\n",
    "        print(\"1. Add item to cart\")\n",
    "        print(\"2. View cart\")\n",
    "        print(\"3. Remove item from cart\")\n",
    "        print(\"4. Edit item\")\n",
    "        print(\"5. Undo last removal\")\n",
    "        print(\"6. View budget\")\n",
    "        print(\"7. Exit\")\n",
    "        choice = input(\"Enter your choice: \")\n",
    "        \n",
    "        if choice == '1':\n",
    "            item_name = input(\"Enter the item name: \")\n",
    "            item_price = int(input(\"Enter the item price: \"))\n",
    "            quantity = int(input(\"Enter amount of item: \"))\n",
    "            total_cost = item_price * quantity\n",
    "            \n",
    "            if total_cost <= budget:\n",
    "                item = {\"name\": item_name, \"price\": item_price, \"amount\": quantity}\n",
    "                cart.append(item)\n",
    "                budget -= total_cost\n",
    "                print('Item added to cart!\\n')\n",
    "            else:\n",
    "                print(\"You don't have enough budget to add this item.\\n\")\n",
    "        elif choice == '2':\n",
    "            for index in cart:\n",
    "                print(index)\n",
    "                \n",
    "                #print(\"Name : {}\\nPrice : {}\\nQuantity : {} \".format(cart[index]))\n",
    "        elif choice == '3':\n",
    "            if not cart:\n",
    "                print(\"Your cart is already empty.\\n\")\n",
    "            else:\n",
    "                print(\"Current items in the cart:\")\n",
    "                for index, item in enumerate(cart):\n",
    "                    total_price = item['price'] * item['amount']\n",
    "                    print(f\"{index + 1}. {item['name']} - ${item['price']} per unit - Amount: {item['amount']} - Total: ${total_price}\")\n",
    "                \n",
    "                delete = input(\"Enter the item number you want to remove: \")\n",
    "\n",
    "                if delete.isdigit():\n",
    "                    delete_index = int(delete) - 1\n",
    "                    if 0 <= delete_index < len(cart):\n",
    "                        removed_item = cart[delete_index]  \n",
    "                        budget += cart[delete_index]['price'] * cart[delete_index]['amount']  \n",
    "                        del cart[delete_index]\n",
    "                        print(\"Item removed from cart!\\n\")\n",
    "                    else:\n",
    "                        print(\"Invalid item number! No item removed.\\n\")\n",
    "                else:\n",
    "                    print(\"Invalid input! Please enter a valid item number.\\n\")\n",
    "        elif choice == '4':\n",
    "            if not cart:\n",
    "                print(\"Your cart is empty. Can't edit anything.\\n\")\n",
    "            else:\n",
    "                display_cart(cart)\n",
    "                edit_choice = input(\"Enter the number of the item you want to edit: \")\n",
    "                if edit_choice.isdigit():\n",
    "                    edit_index = int(edit_choice) - 1\n",
    "                    if 0 <= edit_index < len(cart):\n",
    "                        item_to_edit = cart[edit_index]\n",
    "                        print(f\"Editing {item_to_edit['name']}.\")\n",
    "                        \n",
    "                        new_name = input(f\"Enter new name (or press Enter to keep '{item_to_edit['name']}'): \")"
   ]
  },
  {
   "cell_type": "code",
   "execution_count": null,
   "metadata": {},
   "outputs": [],
   "source": [
    "main()"
   ]
  },
  {
   "cell_type": "code",
   "execution_count": null,
   "metadata": {},
   "outputs": [],
   "source": [
    "import numpy as np\n",
    "from sklearn.model_selection import train_test_split\n",
    "from sklearn.linear_model import LogisticRegression\n",
    "from sklearn.tree import DecisionTreeClassifier\n",
    "from sklearn.ensemble import BaggingClassifier, RandomForestClassifier\n",
    "from sklearn.metrics import accuracy_score, classification_report\n",
    "from sklearn.preprocessing import LabelEncoder, StandardScaler\n",
    "from sklearn.neighbors import KNeighborsClassifier"
   ]
  },
  {
   "cell_type": "code",
   "execution_count": null,
   "metadata": {},
   "outputs": [],
   "source": [
    "print('Welcome to the OK_Cupid data scientist project!\\n')"
   ]
  },
  {
   "cell_type": "markdown",
   "metadata": {},
   "source": [
    "`Reading the data from the csv file and making a pandas dataframe of it`"
   ]
  },
  {
   "cell_type": "code",
   "execution_count": null,
   "metadata": {},
   "outputs": [],
   "source": [
    "from my_python.filefinder import helper"
   ]
  },
  {
   "cell_type": "code",
   "execution_count": null,
   "metadata": {},
   "outputs": [],
   "source": [
    "df = helper.stat_display()"
   ]
  },
  {
   "cell_type": "markdown",
   "metadata": {},
   "source": [
    "`Gathering some info about the dataframe`"
   ]
  },
  {
   "cell_type": "code",
   "execution_count": null,
   "metadata": {},
   "outputs": [],
   "source": [
    "'Unique values of income: ', df.income.unique()"
   ]
  },
  {
   "cell_type": "code",
   "execution_count": null,
   "metadata": {},
   "outputs": [],
   "source": [
    "df[df.income == -1].head(1)"
   ]
  },
  {
   "cell_type": "code",
   "execution_count": null,
   "metadata": {},
   "outputs": [],
   "source": [
    "print('The number of observations with income value -1 is:', len(df[df.income == -1]))"
   ]
  },
  {
   "cell_type": "markdown",
   "metadata": {},
   "source": [
    "### We could drop the whole income column because -1 is not a usual categorical variable and definitely not a continuous numerical variable. Also, we can replace the values without avoiding bias."
   ]
  },
  {
   "cell_type": "code",
   "execution_count": null,
   "metadata": {},
   "outputs": [],
   "source": [
    "df = df.drop('income', axis=1)"
   ]
  },
  {
   "cell_type": "code",
   "execution_count": null,
   "metadata": {},
   "outputs": [],
   "source": [
    "#df.religion.unique()\n",
    "df.pets.unique()"
   ]
  },
  {
   "cell_type": "code",
   "execution_count": null,
   "metadata": {},
   "outputs": [],
   "source": [
    "'Unique values of height: ', df.height.unique()"
   ]
  },
  {
   "cell_type": "code",
   "execution_count": null,
   "metadata": {},
   "outputs": [],
   "source": [
    "print('''\\nThe smallest 18 year-old-man in the world is 29 inches, thus we can replace, or drop the values if they are lower than that.\n",
    "https://www.mirror.co.uk/news/world-news/worlds-shortest-teenager-named-18-27050545''')"
   ]
  },
  {
   "cell_type": "code",
   "execution_count": null,
   "metadata": {},
   "outputs": [],
   "source": [
    "invalid_heights = (df.height <= 29) | (df.height.isna())"
   ]
  },
  {
   "cell_type": "code",
   "execution_count": null,
   "metadata": {},
   "outputs": [],
   "source": [
    "df = df[~invalid_heights]"
   ]
  },
  {
   "cell_type": "code",
   "execution_count": null,
   "metadata": {},
   "outputs": [],
   "source": [
    "df.describe()"
   ]
  },
  {
   "cell_type": "code",
   "execution_count": null,
   "metadata": {},
   "outputs": [],
   "source": [
    "df.height.unique()"
   ]
  },
  {
   "cell_type": "markdown",
   "metadata": {},
   "source": [
    "`Converting inch to cm`"
   ]
  },
  {
   "cell_type": "code",
   "execution_count": null,
   "metadata": {},
   "outputs": [],
   "source": [
    "df.height = df.height*2.54"
   ]
  },
  {
   "cell_type": "markdown",
   "metadata": {},
   "source": [
    "`Take a look at the \"nan\" values of the whole dataframe`"
   ]
  },
  {
   "cell_type": "code",
   "execution_count": null,
   "metadata": {},
   "outputs": [],
   "source": [
    "df_isna = df.isna().sum().sort_values()\n",
    "#df_isna"
   ]
  },
  {
   "cell_type": "markdown",
   "metadata": {},
   "source": [
    "`Choosing some categorical and numerical variables (with zero or little null values) and put them into a list`"
   ]
  },
  {
   "cell_type": "code",
   "execution_count": null,
   "metadata": {},
   "outputs": [],
   "source": [
    "cats_and_nums = ['age', 'body_type', 'diet', 'drinks', 'drugs', 'education', 'height', 'orientation', 'religion', 'sex', 'sign', 'smokes', 'status']"
   ]
  },
  {
   "cell_type": "code",
   "execution_count": null,
   "metadata": {},
   "outputs": [],
   "source": [
    "df.sex.replace(['m', 'f'], ['male', 'female'], inplace=True)"
   ]
  },
  {
   "cell_type": "code",
   "execution_count": null,
   "metadata": {},
   "outputs": [],
   "source": [
    "#for feature in cats_and_nums:\n",
    "    #print(df[feature].value_counts())"
   ]
  },
  {
   "cell_type": "code",
   "execution_count": null,
   "metadata": {},
   "outputs": [],
   "source": [
    "#df = df[cats_and_nums].dropna()"
   ]
  },
  {
   "cell_type": "code",
   "execution_count": null,
   "metadata": {},
   "outputs": [],
   "source": [
    "from my_python.methods import df_cleaning as to_clean"
   ]
  },
  {
   "cell_type": "code",
   "execution_count": null,
   "metadata": {},
   "outputs": [],
   "source": [
    "changes = to_clean.unique_and_fill(cats_and_nums, df)"
   ]
  },
  {
   "cell_type": "code",
   "execution_count": null,
   "metadata": {},
   "outputs": [],
   "source": [
    "while True:\n",
    "    try: x = next(changes)\n",
    "    except StopIteration: break\n",
    "    #print(x)"
   ]
  },
  {
   "cell_type": "markdown",
   "metadata": {},
   "source": [
    "`Making a function which deals with features having many unique values in a way of making groups.`"
   ]
  },
  {
   "cell_type": "markdown",
   "metadata": {},
   "source": [
    "`Making groups from signs, diets and religions by using the above function`"
   ]
  },
  {
   "cell_type": "code",
   "execution_count": null,
   "metadata": {},
   "outputs": [],
   "source": [
    "signs_ok = ['gemini', 'cancer', 'pisces', 'aquarius', 'taurus', 'virgo', 'sagittarius', 'leo', 'aries', 'libra', 'scorpio', 'capricorn']\n",
    "sings_change = to_clean.change_values(signs_ok, df, 'sign')\n",
    "diets_ok = ['kosher', 'halal', 'anything', 'other', 'vegetarian', 'vegan']\n",
    "diets_change = to_clean.change_values(diets_ok, df, 'diet')\n",
    "religions_ok = ['agnosticism', 'atheism', 'christianity', 'other', 'catholicism', 'buddhism', 'judaism', 'hinduism', 'islam']\n",
    "religion_change = to_clean.change_values(religions_ok, df, 'religion')\n",
    "sings_change"
   ]
  },
  {
   "cell_type": "markdown",
   "metadata": {},
   "source": [
    "`Manual data manipulation of education unique values`"
   ]
  },
  {
   "cell_type": "code",
   "execution_count": null,
   "metadata": {},
   "outputs": [],
   "source": [
    "edu_unique = ['working on college/university', 'working on space camp', 'graduated from masters program', 'graduated from college/university',\n",
    "'working on two-year college', 'unknown', 'graduated from high school', 'working on masters program', 'graduated from space camp',\n",
    "'college/university', 'dropped out of space camp', 'graduated from ph.d program', 'graduated from law school', 'working on ph.d program',\n",
    "'two-year college','graduated from two-year college', 'working on med school', 'dropped out of college/university', 'space camp',\n",
    "'graduated from med school', 'dropped out of high school', 'working on high school', 'masters program', 'dropped out of ph.d program',\n",
    "'dropped out of two-year college', 'dropped out of med school', 'high school', 'working on law school', 'law school',\n",
    "'dropped out of masters program', 'ph.d program', 'dropped out of law school', 'med school']"
   ]
  },
  {
   "cell_type": "code",
   "execution_count": null,
   "metadata": {},
   "outputs": [],
   "source": [
    "high_school = ['working on college/university', 'working on two-year college', 'graduated from high school', 'working on masters program',\n",
    "'high school','working on law school', 'working on high school']\n",
    "college = ['graduated from law school', 'two-year college', 'graduated from two-year college','working on med school', 'law school']\n",
    "master = ['graduated from masters program', 'graduated from college/university', 'college/university', 'working on ph.d program',\n",
    "'masters program']\n",
    "phd = ['graduated from ph.d program', 'graduated from med school', 'ph.d program', 'med school']\n",
    "other = ['working on space camp', 'graduated from space camp', 'space camp']\n",
    "dropped = ['dropped out of space camp', 'dropped out of college/university', 'dropped out of high school', 'dropped out of ph.d program',\n",
    "'dropped out of two-year college', 'dropped out of med school', 'dropped out of masters program','dropped out of law school']"
   ]
  },
  {
   "cell_type": "code",
   "execution_count": null,
   "metadata": {},
   "outputs": [],
   "source": [
    "all_in = [high_school, college, master, phd, other, dropped]\n",
    "new = ['high school', 'college', 'master', 'phd', 'other', 'dropped out']\n",
    "edu_test = to_clean.list_replacement(df, 'education', all_in, new)"
   ]
  },
  {
   "cell_type": "markdown",
   "metadata": {},
   "source": [
    "`Making pie charts, countplots and histograms of the features from the list`"
   ]
  },
  {
   "cell_type": "code",
   "execution_count": null,
   "metadata": {},
   "outputs": [],
   "source": [
    "from my_python.methods import visual as vis"
   ]
  },
  {
   "cell_type": "code",
   "execution_count": null,
   "metadata": {},
   "outputs": [],
   "source": [
    "print('\\n')\n",
    "question = input('Would you like to see some pie charts and countplots? Enter \"yes\", or \"no\"! ')\n",
    "if question == 'yes':\n",
    "    vis.pie_and_countplot(cats_and_nums, df, 'sex')"
   ]
  },
  {
   "cell_type": "code",
   "execution_count": null,
   "metadata": {},
   "outputs": [],
   "source": [
    "print('\\n')\n",
    "question = input('Would you like to see some histograms? Enter \"yes\", or \"no\"! ')\n",
    "if question == 'yes':\n",
    "    vis.histogram(cats_and_nums, df, 'sex')"
   ]
  },
  {
   "cell_type": "markdown",
   "metadata": {},
   "source": [
    "`Making some dataframes by copying the original`"
   ]
  },
  {
   "cell_type": "code",
   "execution_count": null,
   "metadata": {},
   "outputs": [],
   "source": [
    "df_model = df.copy()\n",
    "df_new = df.copy()"
   ]
  },
  {
   "cell_type": "code",
   "execution_count": null,
   "metadata": {},
   "outputs": [],
   "source": [
    "df_model.head(1)"
   ]
  },
  {
   "cell_type": "code",
   "execution_count": null,
   "metadata": {},
   "outputs": [],
   "source": [
    "df_model.sex = df_model.sex.map({'male':1, 'female':0})\n",
    "df_model.orientation = df_model.orientation.replace(['straight', 'bisexual', 'gay'], [2, 1, 0])\n",
    "df_model.status = df_model['status'].replace(['single', 'available'], 1)\n",
    "df_model.status = df_model['status'].replace(['married', 'seeing someone', 'unknown'], 0)\n",
    "\n",
    "df_model.smokes = np.where(df_model.smokes == 'no', 1, 0)\n",
    "df_model.drugs = np.where(df_model.drugs == 'never', 1, 0)"
   ]
  },
  {
   "cell_type": "markdown",
   "metadata": {},
   "source": [
    "`Making some labels automatically`"
   ]
  },
  {
   "cell_type": "code",
   "execution_count": null,
   "metadata": {},
   "outputs": [],
   "source": [
    "encodeable = [feat for feat in cats_and_nums if feat not in ['sex', 'orientation', 'status', 'smokes', 'drugs', 'age', 'height']]"
   ]
  },
  {
   "cell_type": "code",
   "execution_count": null,
   "metadata": {},
   "outputs": [],
   "source": [
    "for uncoded in encodeable:\n",
    "    encoder = LabelEncoder()\n",
    "    df_model[uncoded] = encoder.fit_transform(df_model[uncoded])"
   ]
  },
  {
   "cell_type": "code",
   "execution_count": null,
   "metadata": {},
   "outputs": [],
   "source": [
    "df_model = df_model[cats_and_nums]"
   ]
  },
  {
   "cell_type": "code",
   "execution_count": null,
   "metadata": {},
   "outputs": [],
   "source": [
    "#scaler = StandardScaler()"
   ]
  },
  {
   "cell_type": "code",
   "execution_count": null,
   "metadata": {},
   "outputs": [],
   "source": [
    "#df_model = scaler.fit_transform(df_model)\n",
    "#df_model"
   ]
  },
  {
   "cell_type": "markdown",
   "metadata": {},
   "source": [
    "`Making a function to build and use LogisticRegression model.`"
   ]
  },
  {
   "cell_type": "code",
   "execution_count": null,
   "metadata": {},
   "outputs": [],
   "source": [
    "import pandas as pd"
   ]
  },
  {
   "cell_type": "code",
   "execution_count": null,
   "metadata": {},
   "outputs": [],
   "source": [
    "def model_log(df: pd.DataFrame, target: str) -> dict:\n",
    "    \n",
    "    df = df[df[target] != 'unknown']\n",
    "    df = df.sample(int(.25*len(df)))\n",
    "    X = df.drop(target, axis=1)\n",
    "    y = df[target]\n",
    "    scaler = StandardScaler()\n",
    "    scaler.fit_transform(X)\n",
    "    X_train, X_test, y_train, y_test = train_test_split(X, y, test_size=.3, random_state=15)\n",
    "    model = LogisticRegression(max_iter=3500, solver='saga')\n",
    "    model.fit(X_train, y_train)\n",
    "    y_pred = model.predict(X_test)\n",
    "    accuracy = accuracy_score(y_test, y_pred)\n",
    "    \n",
    "    return {'Logistic model': model._estimator_type, 'Features': list(X.columns), 'Target': target, 'Accuracy:': '%.3f' % accuracy}"
   ]
  },
  {
   "cell_type": "code",
   "execution_count": null,
   "metadata": {},
   "outputs": [],
   "source": [
    "log_test_sign = model_log(df_model, 'sign')"
   ]
  },
  {
   "cell_type": "code",
   "execution_count": null,
   "metadata": {},
   "outputs": [],
   "source": [
    "print(log_test_sign)"
   ]
  },
  {
   "cell_type": "code",
   "execution_count": null,
   "metadata": {},
   "outputs": [],
   "source": [
    "##encoder = LabelEncoder()\n",
    "#df.sign = encoder.fit_transform(df.sign)"
   ]
  },
  {
   "cell_type": "code",
   "execution_count": null,
   "metadata": {},
   "outputs": [],
   "source": [
    "target = 'orientation'\n",
    "sample = df_model.sample(10000, replace=True)\n",
    "X = sample.drop(target, axis=1)\n",
    "y = sample[target]"
   ]
  },
  {
   "cell_type": "code",
   "execution_count": null,
   "metadata": {},
   "outputs": [],
   "source": [
    "X"
   ]
  },
  {
   "cell_type": "code",
   "execution_count": null,
   "metadata": {},
   "outputs": [],
   "source": [
    "y"
   ]
  },
  {
   "cell_type": "code",
   "execution_count": null,
   "metadata": {},
   "outputs": [],
   "source": [
    "x_train, x_test, y_train, y_test = train_test_split(X, y, test_size=0.3, random_state=50)"
   ]
  },
  {
   "cell_type": "code",
   "execution_count": null,
   "metadata": {},
   "outputs": [],
   "source": [
    "bag_dt = BaggingClassifier(DecisionTreeClassifier(max_depth=3), n_estimators=10)\n",
    "bag_dt.fit(x_train, y_train)\n",
    "bag_accuracy = bag_dt.score(x_test, y_test)\n",
    "print('Accuracy score of Bagged Classifier, 10 estimators: %.3f' % bag_accuracy)"
   ]
  },
  {
   "cell_type": "code",
   "execution_count": null,
   "metadata": {},
   "outputs": [],
   "source": [
    "np.random.seed(42)\n",
    "accus_test = []\n",
    "neighbors = range(1,50)\n",
    "for neighbor in neighbors:\n",
    "    model = KNeighborsClassifier(n_neighbors=neighbor)\n",
    "    StandardScaler().fit_transform(X)\n",
    "    model.fit(x_train, y_train)\n",
    "    y_pred_test = model.predict(x_test)\n",
    "    accus_test.append(accuracy_score(y_test, y_pred_test))\n",
    "best_acc_neighbors = np.max(accus_test)\n",
    "best_neighbors = neighbors[np.argmax(accus_test)]\n",
    "print('Best accuracy with using k Nearest neighbors is: %.3f' % best_acc_neighbors, ' and the best number of neighbors is: ', best_neighbors)"
   ]
  },
  {
   "cell_type": "code",
   "execution_count": null,
   "metadata": {},
   "outputs": [],
   "source": [
    "np.random.seed(42)\n",
    "accuracy_train=[]\n",
    "accuracy_test = []\n",
    "depths = range(1,20)\n",
    "for depth in depths:\n",
    "  model = RandomForestClassifier(max_depth=depth)\n",
    "  model.fit(x_train, y_train)\n",
    "  y_pred_train = model.predict(x_train)\n",
    "  y_pred_test = model.predict(x_test)\n",
    "  accuracy_train.append(accuracy_score(y_train, y_pred_train))\n",
    "  accuracy_test.append(accuracy_score(y_test, y_pred_test))\n",
    "best_acc = np.max(accuracy_test)\n",
    "best_depth = depths[np.argmax(accuracy_test)]\n",
    "print('Best accuracy with using Randomforest is: ', best_acc, ' and the best depth is: ', best_depth)"
   ]
  },
  {
   "cell_type": "code",
   "execution_count": null,
   "metadata": {},
   "outputs": [],
   "source": [
    "vis.randfor_test_plot(depths, accuracy_train, accuracy_test)"
   ]
  },
  {
   "cell_type": "code",
   "execution_count": null,
   "metadata": {},
   "outputs": [],
   "source": [
    "best_rf = RandomForestClassifier(max_depth=best_depth)\n",
    "best_rf.fit(x_train, y_train)"
   ]
  },
  {
   "cell_type": "code",
   "execution_count": null,
   "metadata": {},
   "outputs": [],
   "source": [
    "feature_importance = pd.DataFrame(zip(x_train.columns, best_rf.feature_importances_), columns=['features', 'importances']).sort_values('importances', ascending=False)\n",
    "feature_importance.iloc[:5]"
   ]
  },
  {
   "cell_type": "code",
   "execution_count": null,
   "metadata": {},
   "outputs": [],
   "source": [
    "features = ['sign', 'age', 'height', 'sex', 'orientation', 'body_type', 'diet', 'drinks',  'smokes', 'drugs', 'education', 'religion', 'status']"
   ]
  },
  {
   "cell_type": "code",
   "execution_count": null,
   "metadata": {},
   "outputs": [],
   "source": [
    "df_new = df_new[features][df_new.sign != 'unknown']"
   ]
  },
  {
   "cell_type": "code",
   "execution_count": null,
   "metadata": {},
   "outputs": [],
   "source": [
    "X_new = pd.get_dummies(df_new[features[1:]], drop_first=True)\n",
    "X_new"
   ]
  },
  {
   "cell_type": "code",
   "execution_count": null,
   "metadata": {},
   "outputs": [],
   "source": [
    "y_new = df_new[features[0]]"
   ]
  },
  {
   "cell_type": "code",
   "execution_count": null,
   "metadata": {},
   "outputs": [],
   "source": [
    "y_new"
   ]
  },
  {
   "cell_type": "code",
   "execution_count": null,
   "metadata": {},
   "outputs": [],
   "source": [
    "neighbors = KNeighborsClassifier(n_neighbors=1)"
   ]
  },
  {
   "cell_type": "code",
   "execution_count": null,
   "metadata": {},
   "outputs": [],
   "source": [
    "scaler = StandardScaler()"
   ]
  },
  {
   "cell_type": "code",
   "execution_count": null,
   "metadata": {},
   "outputs": [],
   "source": [
    "X_new = scaler.fit_transform(X_new)"
   ]
  },
  {
   "cell_type": "code",
   "execution_count": null,
   "metadata": {},
   "outputs": [],
   "source": [
    "x_train, x_test, y_train, y_test = train_test_split(X_new, y_new, test_size=.25, random_state=100)"
   ]
  },
  {
   "cell_type": "code",
   "execution_count": null,
   "metadata": {},
   "outputs": [],
   "source": [
    "neighbors.fit(x_train, y_train)"
   ]
  },
  {
   "cell_type": "code",
   "execution_count": null,
   "metadata": {},
   "outputs": [],
   "source": [
    "y_pred = neighbors.predict(x_test)"
   ]
  },
  {
   "cell_type": "code",
   "execution_count": null,
   "metadata": {},
   "outputs": [],
   "source": [
    "accuracy_score(y_test, y_pred)"
   ]
  },
  {
   "cell_type": "code",
   "execution_count": null,
   "metadata": {},
   "outputs": [],
   "source": [
    "np.random.seed(0)\n",
    "accus_test = []\n",
    "neighbors = range(1,50)\n",
    "for neighbor in neighbors:\n",
    "    model = KNeighborsClassifier(n_neighbors=neighbor)\n",
    "    model.fit(x_train, y_train)\n",
    "    y_pred_test = model.predict(x_test)\n",
    "    accus_test.append(accuracy_score(y_test, y_pred_test))\n",
    "best_acc_neighbors = np.max(accus_test)\n",
    "best_neighbors = neighbors[np.argmax(accus_test)]\n",
    "print('Best accuracy with using k Nearest neighbors is: ', best_acc_neighbors, ' and the best number of neighbors is: ', best_neighbors)"
   ]
  },
  {
   "cell_type": "code",
   "execution_count": null,
   "metadata": {},
   "outputs": [],
   "source": [
    "print(classification_report(y_test, y_pred))"
   ]
  },
  {
   "cell_type": "code",
   "execution_count": null,
   "metadata": {},
   "outputs": [],
   "source": [
    "array = np.array(X_new)\n",
    "array"
   ]
  }
 ],
 "metadata": {
  "kernelspec": {
   "display_name": "Python 3",
   "language": "python",
   "name": "python3"
  },
  "language_info": {
   "codemirror_mode": {
    "name": "ipython",
    "version": 3
   },
   "file_extension": ".py",
   "mimetype": "text/x-python",
   "name": "python",
   "nbconvert_exporter": "python",
   "pygments_lexer": "ipython3",
   "version": "3.11.4"
  }
 },
 "nbformat": 4,
 "nbformat_minor": 4
}
