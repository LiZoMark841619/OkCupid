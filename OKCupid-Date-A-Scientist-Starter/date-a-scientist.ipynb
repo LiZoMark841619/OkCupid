{
 "cells": [
  {
   "cell_type": "markdown",
   "metadata": {},
   "source": [
    "`Importing modules`"
   ]
  },
  {
   "cell_type": "code",
   "execution_count": null,
   "metadata": {},
   "outputs": [],
   "source": [
    "import pandas as pd\n",
    "import numpy as np\n",
    "import seaborn as sns\n",
    "import matplotlib.pyplot as plt\n",
    "from sklearn.model_selection import train_test_split\n",
    "from sklearn.linear_model import LogisticRegression\n",
    "from sklearn.tree import DecisionTreeClassifier\n",
    "from sklearn.ensemble import BaggingClassifier, RandomForestClassifier\n",
    "from sklearn.metrics import accuracy_score, classification_report\n",
    "from sklearn.preprocessing import LabelEncoder, StandardScaler\n",
    "from sklearn.neighbors import KNeighborsClassifier"
   ]
  },
  {
   "cell_type": "markdown",
   "metadata": {},
   "source": [
    "`Reading the data from the csv file and making a pandas dataframe of it`"
   ]
  },
  {
   "cell_type": "code",
   "execution_count": null,
   "metadata": {},
   "outputs": [],
   "source": [
    "df = pd.read_csv('profiles.csv', encoding='utf-8')"
   ]
  },
  {
   "cell_type": "markdown",
   "metadata": {},
   "source": [
    "`Gathering some info about the dataframe`"
   ]
  },
  {
   "cell_type": "code",
   "execution_count": null,
   "metadata": {},
   "outputs": [],
   "source": [
    "df.info()"
   ]
  },
  {
   "cell_type": "code",
   "execution_count": null,
   "metadata": {},
   "outputs": [],
   "source": [
    "print('Some descriptive statistic data of numerical variables')\n",
    "df.describe()"
   ]
  },
  {
   "cell_type": "code",
   "execution_count": null,
   "metadata": {},
   "outputs": [],
   "source": [
    "print('You can see above that the height and the income columns include data unrealistic.')"
   ]
  },
  {
   "cell_type": "code",
   "execution_count": null,
   "metadata": {},
   "outputs": [],
   "source": [
    "print('Unique values of income')\n",
    "df.income.unique()"
   ]
  },
  {
   "cell_type": "code",
   "execution_count": null,
   "metadata": {},
   "outputs": [],
   "source": [
    "df[df.income == -1].head(1)"
   ]
  },
  {
   "cell_type": "code",
   "execution_count": null,
   "metadata": {},
   "outputs": [],
   "source": [
    "print('The number of observations with income value -1 is: ', len(df[df.income == -1]))"
   ]
  },
  {
   "cell_type": "code",
   "execution_count": null,
   "metadata": {},
   "outputs": [],
   "source": [
    "print('''We could drop the whole income column because -1 is not a usual categorical variable and definitely not\n",
    "a continuous numerical variable. Thus we cannot use them or replace the values without avoiding bias.''')"
   ]
  },
  {
   "cell_type": "code",
   "execution_count": null,
   "metadata": {},
   "outputs": [],
   "source": [
    "df = df.drop('income', axis=1)"
   ]
  },
  {
   "cell_type": "code",
   "execution_count": null,
   "metadata": {},
   "outputs": [],
   "source": [
    "#df.religion.unique()\n",
    "df.pets.unique()"
   ]
  },
  {
   "cell_type": "code",
   "execution_count": null,
   "metadata": {},
   "outputs": [],
   "source": [
    "print('Unique values of height')\n",
    "df.height.unique()"
   ]
  },
  {
   "cell_type": "code",
   "execution_count": null,
   "metadata": {},
   "outputs": [],
   "source": [
    "print('''The smallest 18 year-old-man in the world is 29 inches, thus we can replace, or drop the values if they are lower than that.\n",
    "https://www.mirror.co.uk/news/world-news/worlds-shortest-teenager-named-18-27050545''')"
   ]
  },
  {
   "cell_type": "code",
   "execution_count": null,
   "metadata": {},
   "outputs": [],
   "source": [
    "invalid_heights = (df.height <= 29) | (df.height.isna())"
   ]
  },
  {
   "cell_type": "code",
   "execution_count": null,
   "metadata": {},
   "outputs": [],
   "source": [
    "df = df[~invalid_heights]"
   ]
  },
  {
   "cell_type": "code",
   "execution_count": null,
   "metadata": {},
   "outputs": [],
   "source": [
    "df.describe()"
   ]
  },
  {
   "cell_type": "code",
   "execution_count": null,
   "metadata": {},
   "outputs": [],
   "source": [
    "df.height.unique()"
   ]
  },
  {
   "cell_type": "markdown",
   "metadata": {},
   "source": [
    "`Converting inch to cm`"
   ]
  },
  {
   "cell_type": "code",
   "execution_count": null,
   "metadata": {},
   "outputs": [],
   "source": [
    "df.height = df.height*2.54"
   ]
  },
  {
   "cell_type": "markdown",
   "metadata": {},
   "source": [
    "`Take a look at the \"nan\" values of the whole dataframe`"
   ]
  },
  {
   "cell_type": "code",
   "execution_count": null,
   "metadata": {},
   "outputs": [],
   "source": [
    "df_isna = df.isna().sum().sort_values()\n",
    "#df_isna"
   ]
  },
  {
   "cell_type": "markdown",
   "metadata": {},
   "source": [
    "`Choosing some categorical and numerical variables (with zero or little null values) and put them into a list`"
   ]
  },
  {
   "cell_type": "code",
   "execution_count": null,
   "metadata": {},
   "outputs": [],
   "source": [
    "cats_and_nums = ['age', 'body_type', 'diet', 'drinks', 'drugs', 'education', 'height', 'orientation', 'religion', 'sex', 'sign', 'smokes', 'status']"
   ]
  },
  {
   "cell_type": "code",
   "execution_count": null,
   "metadata": {},
   "outputs": [],
   "source": [
    "df.sex.replace(['m', 'f'], ['male', 'female'], inplace=True)"
   ]
  },
  {
   "cell_type": "code",
   "execution_count": null,
   "metadata": {},
   "outputs": [],
   "source": [
    "#for feature in cats_and_nums:\n",
    "    #print(df[feature].value_counts())"
   ]
  },
  {
   "cell_type": "code",
   "execution_count": null,
   "metadata": {},
   "outputs": [],
   "source": [
    "#df = df[cats_and_nums].dropna()"
   ]
  },
  {
   "cell_type": "code",
   "execution_count": null,
   "metadata": {},
   "outputs": [],
   "source": [
    "def unique_and_fill(features: list, df: df) -> list:\n",
    "    for feature in features:\n",
    "        if df[feature].dtype not in ['int64', 'float64']:\n",
    "            df[feature] = df[feature].fillna('unknown')\n",
    "            yield feature, df[feature].unique()"
   ]
  },
  {
   "cell_type": "code",
   "execution_count": null,
   "metadata": {},
   "outputs": [],
   "source": [
    "list((unique_and_fill(cats_and_nums, df)))"
   ]
  },
  {
   "cell_type": "markdown",
   "metadata": {},
   "source": [
    "`Making a function which deals with features having many unique values in a way of making groups.`"
   ]
  },
  {
   "cell_type": "code",
   "execution_count": null,
   "metadata": {},
   "outputs": [],
   "source": [
    "import itertools.product as pro"
   ]
  },
  {
   "cell_type": "code",
   "execution_count": null,
   "metadata": {},
   "outputs": [],
   "source": [
    "def change_values(new_values: list, df: df, feature: str) -> df:\n",
    "    for value in new_values:\n",
    "        for element in df[feature].unique():\n",
    "            if value in element:\n",
    "                df[feature] = df[feature].replace(element, value)\n",
    "    return df[feature]"
   ]
  },
  {
   "cell_type": "markdown",
   "metadata": {},
   "source": [
    "`Making groups from signs, diets and religions by using the above function`"
   ]
  },
  {
   "cell_type": "code",
   "execution_count": null,
   "metadata": {},
   "outputs": [],
   "source": [
    "signs_ok = ['gemini', 'cancer', 'pisces', 'aquarius', 'taurus', 'virgo', 'sagittarius', 'leo', 'aries', 'libra', 'scorpio', 'capricorn']\n",
    "sings_change = change_values(signs_ok, df, 'sign')\n",
    "diets_ok = ['kosher', 'halal', 'anything', 'other', 'vegetarian', 'vegan']\n",
    "diets_change = change_values(diets_ok, df, 'diet')\n",
    "religions_ok = ['agnosticism', 'atheism', 'christianity', 'other', 'catholicism', 'buddhism', 'judaism', 'hinduism', 'islam']\n",
    "religion_change = change_values(religions_ok, df, 'religion')\n",
    "print(sings_change)"
   ]
  },
  {
   "cell_type": "markdown",
   "metadata": {},
   "source": [
    "`Manual data manipulation of education unique values`"
   ]
  },
  {
   "cell_type": "code",
   "execution_count": null,
   "metadata": {},
   "outputs": [],
   "source": [
    "edu_unique = ['working on college/university', 'working on space camp', 'graduated from masters program', 'graduated from college/university',\n",
    "'working on two-year college', 'unknown', 'graduated from high school', 'working on masters program', 'graduated from space camp',\n",
    "'college/university', 'dropped out of space camp', 'graduated from ph.d program', 'graduated from law school', 'working on ph.d program',\n",
    "'two-year college','graduated from two-year college', 'working on med school', 'dropped out of college/university', 'space camp',\n",
    "'graduated from med school', 'dropped out of high school', 'working on high school', 'masters program', 'dropped out of ph.d program',\n",
    "'dropped out of two-year college', 'dropped out of med school', 'high school', 'working on law school', 'law school',\n",
    "'dropped out of masters program', 'ph.d program', 'dropped out of law school', 'med school']"
   ]
  },
  {
   "cell_type": "code",
   "execution_count": null,
   "metadata": {},
   "outputs": [],
   "source": [
    "high_school = ['working on college/university', 'working on two-year college', 'graduated from high school', 'working on masters program',\n",
    "'high school','working on law school', 'working on high school']\n",
    "college = ['graduated from law school', 'two-year college', 'graduated from two-year college','working on med school', 'law school']\n",
    "master = ['graduated from masters program', 'graduated from college/university', 'college/university', 'working on ph.d program',\n",
    "'masters program']\n",
    "phd = ['graduated from ph.d program', 'graduated from med school', 'ph.d program', 'med school']\n",
    "other = ['working on space camp', 'graduated from space camp', 'space camp']\n",
    "dropped = ['dropped out of space camp', 'dropped out of college/university', 'dropped out of high school', 'dropped out of ph.d program',\n",
    "'dropped out of two-year college', 'dropped out of med school', 'dropped out of masters program','dropped out of law school']"
   ]
  },
  {
   "cell_type": "code",
   "execution_count": null,
   "metadata": {},
   "outputs": [],
   "source": [
    "def list_replacement(df: df, feature: str, old_values: list, new_values: list) -> df:\n",
    "    for i in range(len(old_values)):\n",
    "        df[feature] = df[feature].replace(old_values[i], new_values[i])\n",
    "    return df[feature]"
   ]
  },
  {
   "cell_type": "code",
   "execution_count": null,
   "metadata": {},
   "outputs": [],
   "source": [
    "all_in = [high_school, college, master, phd, other, dropped]\n",
    "new = ['high school', 'college', 'master', 'phd', 'other', 'dropped out']\n",
    "edu_test = list_replacement(df, 'education', all_in, new)"
   ]
  },
  {
   "cell_type": "markdown",
   "metadata": {},
   "source": [
    "`Making pie charts, countplots and histograms of the features from the list`"
   ]
  },
  {
   "cell_type": "code",
   "execution_count": null,
   "metadata": {},
   "outputs": [],
   "source": [
    "def charts(features: list, dataframe: df) -> plt:\n",
    "    for feat in features:\n",
    "        plt.figure(figsize=[10, 6])\n",
    "        sns.set_palette('Set1')\n",
    "        data = dataframe[feat]\n",
    "        plt.title(f'Distribution of {feat} of {len(data)} participants')\n",
    "        if data.dtype == 'object':\n",
    "            if data.nunique() < 5:\n",
    "                plt.pie(data.value_counts(), autopct='%d%%', pctdistance=0.85, explode=[0.035 for i in range(data.nunique())])\n",
    "                plt.legend(data.unique())\n",
    "                plt.gcf().gca().add_artist(plt.Circle((0, 0), 0.7, facecolor='white'))\n",
    "            else:\n",
    "                sns.countplot(y=feat, data=dataframe, saturation=0.75, palette='Set1', hue='sex')\n",
    "                plt.xticks(rotation=15)\n",
    "        elif data.dtype in ['int64', 'float64']:\n",
    "            sns.histplot(x=feat, data=dataframe, hue='sex', bins=30)\n",
    "            mean = np.mean(data).round()\n",
    "            plt.axvline(mean, color='red')\n",
    "            plt.text(x=mean*1.1, y=7000, s=f'Mean: {mean}')\n",
    "        plt.show()\n",
    "        plt.clf()"
   ]
  },
  {
   "cell_type": "code",
   "execution_count": null,
   "metadata": {},
   "outputs": [],
   "source": [
    "test_charts = charts(cats_and_nums, df)"
   ]
  },
  {
   "cell_type": "markdown",
   "metadata": {},
   "source": [
    "`Making some dataframes by copying the original`"
   ]
  },
  {
   "cell_type": "code",
   "execution_count": null,
   "metadata": {},
   "outputs": [],
   "source": [
    "df_model = df.copy()\n",
    "df_new = df.copy()"
   ]
  },
  {
   "cell_type": "code",
   "execution_count": null,
   "metadata": {},
   "outputs": [],
   "source": [
    "df_model.head(1)"
   ]
  },
  {
   "cell_type": "code",
   "execution_count": null,
   "metadata": {},
   "outputs": [],
   "source": [
    "df_model.sex = df_model.sex.map({'male':1, 'female':0})\n",
    "df_model.orientation = df_model.orientation.replace(['straight', 'bisexual', 'gay'], [2, 1, 0])\n",
    "df_model.status = df_model['status'].replace(['single', 'available'], 1)\n",
    "df_model.status = df_model['status'].replace(['married', 'seeing someone', 'unknown'], 0)\n",
    "\n",
    "df_model.smokes = np.where(df_model.smokes == 'no', 1, 0)\n",
    "df_model.drugs = np.where(df_model.drugs == 'never', 1, 0)"
   ]
  },
  {
   "cell_type": "markdown",
   "metadata": {},
   "source": [
    "`Making some labels automatically`"
   ]
  },
  {
   "cell_type": "code",
   "execution_count": null,
   "metadata": {},
   "outputs": [],
   "source": [
    "encodeable = [feat for feat in cats_and_nums if feat not in ['sex', 'orientation', 'status', 'smokes', 'drugs', 'age', 'height']]"
   ]
  },
  {
   "cell_type": "code",
   "execution_count": null,
   "metadata": {},
   "outputs": [],
   "source": [
    "for uncoded in encodeable:\n",
    "    encoder = LabelEncoder()\n",
    "    df_model[uncoded] = encoder.fit_transform(df_model[uncoded])"
   ]
  },
  {
   "cell_type": "code",
   "execution_count": null,
   "metadata": {},
   "outputs": [],
   "source": [
    "df_model = df_model[cats_and_nums]"
   ]
  },
  {
   "cell_type": "code",
   "execution_count": null,
   "metadata": {},
   "outputs": [],
   "source": [
    "#scaler = StandardScaler()"
   ]
  },
  {
   "cell_type": "code",
   "execution_count": null,
   "metadata": {},
   "outputs": [],
   "source": [
    "#df_model = scaler.fit_transform(df_model)\n",
    "#df_model"
   ]
  },
  {
   "cell_type": "markdown",
   "metadata": {},
   "source": [
    "`Making a function to build and use LogisticRegression model.`"
   ]
  },
  {
   "cell_type": "code",
   "execution_count": null,
   "metadata": {},
   "outputs": [],
   "source": [
    "def model_log(df: df, target: str) -> dict:\n",
    "    \n",
    "    df = df[df[target] != 'unknown']\n",
    "    df = df.sample(int(.25*len(df)))\n",
    "    X = df.drop(target, axis=1)\n",
    "    y = df[target]\n",
    "    scaler = StandardScaler()\n",
    "    scaler.fit_transform(X)\n",
    "    X_train, X_test, y_train, y_test = train_test_split(X, y, test_size=.3, random_state=15)\n",
    "    model = LogisticRegression(max_iter=3500, solver='saga')\n",
    "    model.fit(X_train, y_train)\n",
    "    y_pred = model.predict(X_test)\n",
    "    accuracy = accuracy_score(y_test, y_pred)\n",
    "    \n",
    "    return {'Logistic model': model._estimator_type, 'Features': list(X.columns), 'Target': target, 'Accuracy': accuracy}"
   ]
  },
  {
   "cell_type": "code",
   "execution_count": null,
   "metadata": {},
   "outputs": [],
   "source": [
    "log_test_sign = model_log(df_model, 'sign')"
   ]
  },
  {
   "cell_type": "code",
   "execution_count": null,
   "metadata": {},
   "outputs": [],
   "source": [
    "print(log_test_sign)"
   ]
  },
  {
   "cell_type": "code",
   "execution_count": null,
   "metadata": {},
   "outputs": [],
   "source": [
    "##encoder = LabelEncoder()\n",
    "#df.sign = encoder.fit_transform(df.sign)"
   ]
  },
  {
   "cell_type": "code",
   "execution_count": null,
   "metadata": {},
   "outputs": [],
   "source": [
    "target = 'orientation'\n",
    "sample = df_model.sample(10000, replace=True)\n",
    "X = sample.drop(target, axis=1)\n",
    "y = sample[target]"
   ]
  },
  {
   "cell_type": "code",
   "execution_count": null,
   "metadata": {},
   "outputs": [],
   "source": [
    "X"
   ]
  },
  {
   "cell_type": "code",
   "execution_count": null,
   "metadata": {},
   "outputs": [],
   "source": [
    "y"
   ]
  },
  {
   "cell_type": "code",
   "execution_count": null,
   "metadata": {},
   "outputs": [],
   "source": [
    "x_train, x_test, y_train, y_test = train_test_split(X, y, test_size=0.3, random_state=50)"
   ]
  },
  {
   "cell_type": "code",
   "execution_count": null,
   "metadata": {},
   "outputs": [],
   "source": [
    "bag_dt = BaggingClassifier(DecisionTreeClassifier(max_depth=3), n_estimators=10)\n",
    "bag_dt.fit(x_train, y_train)\n",
    "bag_accuracy = bag_dt.score(x_test, y_test)\n",
    "print('Accuracy score of Bagged Classifier, 10 estimators:')\n",
    "print(bag_accuracy)"
   ]
  },
  {
   "cell_type": "code",
   "execution_count": null,
   "metadata": {},
   "outputs": [],
   "source": [
    "np.random.seed(0)\n",
    "accus_test = []\n",
    "neighbors = range(1,100)\n",
    "for neighbor in neighbors:\n",
    "    model = KNeighborsClassifier(n_neighbors=neighbor)\n",
    "    StandardScaler().fit_transform(X)\n",
    "    model.fit(x_train, y_train)\n",
    "    y_pred_test = model.predict(x_test)\n",
    "    accus_test.append(accuracy_score(y_test, y_pred_test))\n",
    "best_acc_neighbors = np.max(accus_test)\n",
    "best_neighbors = neighbors[np.argmax(accus_test)]\n",
    "print('Best accuracy with using k Nearest neighbors is: ', best_acc_neighbors, ' and the best number of neighbors is: ', best_neighbors)"
   ]
  },
  {
   "cell_type": "code",
   "execution_count": null,
   "metadata": {},
   "outputs": [],
   "source": [
    "np.random.seed(0)\n",
    "accuracy_train=[]\n",
    "accuracy_test = []\n",
    "depths = range(1,20)\n",
    "for depth in depths:\n",
    "  model = RandomForestClassifier(max_depth=depth)\n",
    "  model.fit(x_train, y_train)\n",
    "  y_pred_train = model.predict(x_train)\n",
    "  y_pred_test = model.predict(x_test)\n",
    "  accuracy_train.append(accuracy_score(y_train, y_pred_train))\n",
    "  accuracy_test.append(accuracy_score(y_test, y_pred_test))\n",
    "best_acc = np.max(accuracy_test)\n",
    "best_depth = depths[np.argmax(accuracy_test)]\n",
    "print('Best accuracy with using Randomforest is: ', best_acc, ' and the best depth is: ', best_depth)"
   ]
  },
  {
   "cell_type": "code",
   "execution_count": null,
   "metadata": {},
   "outputs": [],
   "source": [
    "plt.plot(depths, accuracy_train, 'r-o', depths, accuracy_test, 'b-*')\n",
    "plt.title('Accuracy of training and test data')\n",
    "plt.xlabel('depth')\n",
    "plt.ylabel('accuracy')\n",
    "plt.legend(['training accuracy', 'test accuracy'])\n",
    "plt.show()\n",
    "plt.clf()"
   ]
  },
  {
   "cell_type": "code",
   "execution_count": null,
   "metadata": {},
   "outputs": [],
   "source": [
    "best_rf = RandomForestClassifier(max_depth=best_depth)\n",
    "best_rf.fit(x_train, y_train)"
   ]
  },
  {
   "cell_type": "code",
   "execution_count": null,
   "metadata": {},
   "outputs": [],
   "source": [
    "feature_importance = pd.DataFrame(zip(x_train.columns, best_rf.feature_importances_), columns=['features', 'importances']).sort_values('importances', ascending=False)\n",
    "feature_importance.iloc[:5]"
   ]
  },
  {
   "cell_type": "code",
   "execution_count": null,
   "metadata": {},
   "outputs": [],
   "source": [
    "features = ['sign', 'age', 'height', 'sex', 'orientation', 'body_type', 'diet', 'drinks',  'smokes', 'drugs', 'education', 'religion', 'status']"
   ]
  },
  {
   "cell_type": "code",
   "execution_count": null,
   "metadata": {},
   "outputs": [],
   "source": [
    "df_new = df_new[features][df_new.sign != 'unknown']"
   ]
  },
  {
   "cell_type": "code",
   "execution_count": null,
   "metadata": {},
   "outputs": [],
   "source": [
    "X_new = pd.get_dummies(df_new[features[1:]], drop_first=True)\n",
    "X_new"
   ]
  },
  {
   "cell_type": "code",
   "execution_count": null,
   "metadata": {},
   "outputs": [],
   "source": [
    "y_new = df_new[features[0]]"
   ]
  },
  {
   "cell_type": "code",
   "execution_count": null,
   "metadata": {},
   "outputs": [],
   "source": [
    "y_new"
   ]
  },
  {
   "cell_type": "code",
   "execution_count": null,
   "metadata": {},
   "outputs": [],
   "source": [
    "neighbors = KNeighborsClassifier(n_neighbors=1)"
   ]
  },
  {
   "cell_type": "code",
   "execution_count": null,
   "metadata": {},
   "outputs": [],
   "source": [
    "scaler = StandardScaler()"
   ]
  },
  {
   "cell_type": "code",
   "execution_count": null,
   "metadata": {},
   "outputs": [],
   "source": [
    "X_new = scaler.fit_transform(X_new)"
   ]
  },
  {
   "cell_type": "code",
   "execution_count": null,
   "metadata": {},
   "outputs": [],
   "source": [
    "x_train, x_test, y_train, y_test = train_test_split(X_new, y_new, test_size=.25, random_state=100)"
   ]
  },
  {
   "cell_type": "code",
   "execution_count": null,
   "metadata": {},
   "outputs": [],
   "source": [
    "neighbors.fit(x_train, y_train)"
   ]
  },
  {
   "cell_type": "code",
   "execution_count": null,
   "metadata": {},
   "outputs": [],
   "source": [
    "y_pred = neighbors.predict(x_test)"
   ]
  },
  {
   "cell_type": "code",
   "execution_count": null,
   "metadata": {},
   "outputs": [],
   "source": [
    "accuracy_score(y_test, y_pred)"
   ]
  },
  {
   "cell_type": "code",
   "execution_count": null,
   "metadata": {},
   "outputs": [],
   "source": [
    "np.random.seed(0)\n",
    "accus_test = []\n",
    "neighbors = range(1,50)\n",
    "for neighbor in neighbors:\n",
    "    model = KNeighborsClassifier(n_neighbors=neighbor)\n",
    "    model.fit(x_train, y_train)\n",
    "    y_pred_test = model.predict(x_test)\n",
    "    accus_test.append(accuracy_score(y_test, y_pred_test))\n",
    "best_acc_neighbors = np.max(accus_test)\n",
    "best_neighbors = neighbors[np.argmax(accus_test)]\n",
    "print('Best accuracy with using k Nearest neighbors is: ', best_acc_neighbors, ' and the best number of neighbors is: ', best_neighbors)"
   ]
  },
  {
   "cell_type": "code",
   "execution_count": null,
   "metadata": {},
   "outputs": [],
   "source": [
    "print(classification_report(y_test, y_pred))"
   ]
  },
  {
   "cell_type": "code",
   "execution_count": null,
   "metadata": {},
   "outputs": [],
   "source": [
    "array = np.array(X_new)\n",
    "array"
   ]
  }
 ],
 "metadata": {
  "kernelspec": {
   "display_name": "Python 3",
   "language": "python",
   "name": "python3"
  },
  "language_info": {
   "codemirror_mode": {
    "name": "ipython",
    "version": 3
   },
   "file_extension": ".py",
   "mimetype": "text/x-python",
   "name": "python",
   "nbconvert_exporter": "python",
   "pygments_lexer": "ipython3",
   "version": "3.11.4"
  }
 },
 "nbformat": 4,
 "nbformat_minor": 4
}
