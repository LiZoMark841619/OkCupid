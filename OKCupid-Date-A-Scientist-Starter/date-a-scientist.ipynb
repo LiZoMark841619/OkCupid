{
 "cells": [
  {
   "cell_type": "markdown",
   "metadata": {},
   "source": [
    "`Import the modules`"
   ]
  },
  {
   "cell_type": "code",
   "execution_count": 271,
   "metadata": {},
   "outputs": [],
   "source": [
    "import pandas as pd\n",
    "import numpy as np \n",
    "import matplotlib.pyplot as plt\n",
    "import seaborn as sns\n",
    "from sklearn.preprocessing import LabelEncoder\n",
    "from sklearn.linear_model import LogisticRegression\n",
    "from sklearn.model_selection import train_test_split\n",
    "from sklearn.ensemble import RandomForestClassifier\n",
    "from sklearn.feature_selection import RFE\n",
    "from sklearn.metrics import accuracy_score"
   ]
  },
  {
   "cell_type": "markdown",
   "metadata": {},
   "source": [
    "`Read the data from the csv file and make a pandas dataframe of that`"
   ]
  },
  {
   "cell_type": "code",
   "execution_count": 272,
   "metadata": {},
   "outputs": [],
   "source": [
    "df = pd.read_csv('profiles.csv')"
   ]
  },
  {
   "cell_type": "markdown",
   "metadata": {},
   "source": [
    "`Get some info about the dataframe`"
   ]
  },
  {
   "cell_type": "code",
   "execution_count": null,
   "metadata": {},
   "outputs": [],
   "source": [
    "df.info()"
   ]
  },
  {
   "cell_type": "code",
   "execution_count": null,
   "metadata": {},
   "outputs": [],
   "source": [
    "print('Some descriptive statistic data of numerical variables')\n",
    "df.describe()"
   ]
  },
  {
   "cell_type": "code",
   "execution_count": null,
   "metadata": {},
   "outputs": [],
   "source": [
    "print('You can see above that the height and the income columns include data unrealistic.')"
   ]
  },
  {
   "cell_type": "code",
   "execution_count": null,
   "metadata": {},
   "outputs": [],
   "source": [
    "print('Unique values of income')\n",
    "df.income.unique()"
   ]
  },
  {
   "cell_type": "code",
   "execution_count": null,
   "metadata": {},
   "outputs": [],
   "source": [
    "df[df.income == -1].head(2)"
   ]
  },
  {
   "cell_type": "code",
   "execution_count": null,
   "metadata": {},
   "outputs": [],
   "source": [
    "df.sex.replace(['m', 'f'], ['male', 'female'], inplace=True)"
   ]
  },
  {
   "cell_type": "code",
   "execution_count": null,
   "metadata": {},
   "outputs": [],
   "source": [
    "print('The number of observations with income value -1 is: ', len(df[df.income == -1]))"
   ]
  },
  {
   "cell_type": "code",
   "execution_count": null,
   "metadata": {},
   "outputs": [],
   "source": [
    "print('''We could drop the whole income column because -1 is not a usual categorical variable and definitely not\n",
    "a continuous numerical variable. Thus we cannot use them or replace the values without avoiding bias.''')"
   ]
  },
  {
   "cell_type": "code",
   "execution_count": null,
   "metadata": {},
   "outputs": [],
   "source": [
    "df = df.drop('income', axis=1)"
   ]
  },
  {
   "cell_type": "code",
   "execution_count": null,
   "metadata": {},
   "outputs": [],
   "source": [
    "print('Unique values of height')\n",
    "df.height.unique()"
   ]
  },
  {
   "cell_type": "code",
   "execution_count": null,
   "metadata": {},
   "outputs": [],
   "source": [
    "print('''The smallest 18 year-old-man in the world is 29 inches, thus we can replace, or drop the values if they are lower than that.\n",
    "https://www.mirror.co.uk/news/world-news/worlds-shortest-teenager-named-18-27050545''')"
   ]
  },
  {
   "cell_type": "code",
   "execution_count": null,
   "metadata": {},
   "outputs": [],
   "source": [
    "df = df[~((df.height <= 29) | (df.height.isna()))]"
   ]
  },
  {
   "cell_type": "code",
   "execution_count": null,
   "metadata": {},
   "outputs": [],
   "source": [
    "df.describe()"
   ]
  },
  {
   "cell_type": "code",
   "execution_count": null,
   "metadata": {},
   "outputs": [],
   "source": [
    "df.height.unique()"
   ]
  },
  {
   "cell_type": "markdown",
   "metadata": {},
   "source": [
    "`Make cms from inches`"
   ]
  },
  {
   "cell_type": "code",
   "execution_count": null,
   "metadata": {},
   "outputs": [],
   "source": [
    "df.height = df.height*2.54"
   ]
  },
  {
   "cell_type": "markdown",
   "metadata": {},
   "source": [
    "`Take a look at the \"nan\" values of the whole dataframe`"
   ]
  },
  {
   "cell_type": "code",
   "execution_count": null,
   "metadata": {},
   "outputs": [],
   "source": [
    "df_isna = df.isna().sum().sort_values()\n",
    "#df_isna"
   ]
  },
  {
   "cell_type": "markdown",
   "metadata": {},
   "source": [
    "`Choose some and categorical and numerical variables and put them into a list`"
   ]
  },
  {
   "cell_type": "code",
   "execution_count": null,
   "metadata": {},
   "outputs": [],
   "source": [
    "cats_and_nums = ['age', 'sex', 'orientation', 'height', 'status', 'drinks', 'body_type', 'smokes']"
   ]
  },
  {
   "cell_type": "code",
   "execution_count": null,
   "metadata": {},
   "outputs": [],
   "source": [
    "for feature in cats_and_nums:\n",
    "    print(df[feature].value_counts())"
   ]
  },
  {
   "cell_type": "code",
   "execution_count": null,
   "metadata": {},
   "outputs": [],
   "source": [
    "def unique(features, data):\n",
    "    for feature in features:\n",
    "        if data[feature].dtype not in ['int64', 'float64']:\n",
    "            data[feature] = data[feature].fillna('unknown')\n",
    "            yield feature, data[feature].unique()"
   ]
  },
  {
   "cell_type": "code",
   "execution_count": null,
   "metadata": {},
   "outputs": [],
   "source": [
    "test_1 = list(unique(cats_and_nums, df))"
   ]
  },
  {
   "cell_type": "code",
   "execution_count": null,
   "metadata": {},
   "outputs": [],
   "source": [
    "test_1"
   ]
  },
  {
   "cell_type": "markdown",
   "metadata": {},
   "source": [
    "`Making pie charts, countplots and histograms of the features from the list`"
   ]
  },
  {
   "cell_type": "code",
   "execution_count": null,
   "metadata": {},
   "outputs": [],
   "source": [
    "def charts(features, dataframe):\n",
    "    for feature in features:\n",
    "        plt.figure(figsize=[10, 7])\n",
    "        data = dataframe[feature]\n",
    "        title = f'Distribution of {feature} of {len(data)} participants'\n",
    "        if data.dtype == 'object':\n",
    "            if data.nunique() < 6:\n",
    "                plt.pie(data.value_counts(), autopct='%d%%', pctdistance=.85, explode=[0.05 for i in range(data.nunique())], colors=sns.color_palette('Set1'))\n",
    "                plt.title(title)\n",
    "                plt.legend(data.unique())\n",
    "                plt.gcf().gca().add_artist(plt.Circle((0, 0), 0.7, facecolor='lightblue'))\n",
    "            else:\n",
    "                sns.countplot(x=data, saturation=0.75, palette='Set1')\n",
    "                plt.title(title)\n",
    "                plt.xticks(rotation=15, fontsize=9)\n",
    "        elif data.dtype in ['int64', 'float64']:\n",
    "            sns.histplot(x=feature, data = dataframe, hue='sex', bins=30, color=['darkred', 'darkblue'])\n",
    "            plt.title(title)\n",
    "            mean, median = np.mean(data).round(), np.median(data).round()\n",
    "            plt.vlines([mean, median], colors=['red', 'blue'], ymin=0, ymax=11000)\n",
    "            plt.text(x=mean*1.1, y=8000, s=f'Mean: {mean}')\n",
    "            plt.text(x=median*.8, y=8000, s='Median')\n",
    "        plt.show()\n",
    "        plt.clf()"
   ]
  },
  {
   "cell_type": "code",
   "execution_count": null,
   "metadata": {},
   "outputs": [],
   "source": [
    "test_2 = charts(cats_and_nums, df)"
   ]
  },
  {
   "cell_type": "markdown",
   "metadata": {},
   "source": [
    "`Change the dtypes of \"sex, orientation and status\" categorical columns from object to int`"
   ]
  },
  {
   "cell_type": "code",
   "execution_count": null,
   "metadata": {},
   "outputs": [],
   "source": [
    "df.sex = np.where(df['sex'] == 'male', 1, 0)\n",
    "df.orientation = df.orientation.replace(['straight', 'bisexual', 'gay'], [2, 1, 0])\n",
    "df['status'] = df['status'].replace(['single', 'available', 'seeing someone'], 1)\n",
    "df['status'] = df['status'].replace(['married', 'unknown'], 0)"
   ]
  },
  {
   "cell_type": "code",
   "execution_count": null,
   "metadata": {},
   "outputs": [],
   "source": [
    "encodeable = cats_and_nums[-3:]"
   ]
  },
  {
   "cell_type": "code",
   "execution_count": null,
   "metadata": {},
   "outputs": [],
   "source": [
    "encodeable"
   ]
  },
  {
   "cell_type": "code",
   "execution_count": null,
   "metadata": {},
   "outputs": [],
   "source": [
    "for uncoded_feature in encodeable:\n",
    "    encoder = LabelEncoder()\n",
    "    df[uncoded_feature] = encoder.fit_transform(df[uncoded_feature])\n",
    "    "
   ]
  },
  {
   "cell_type": "code",
   "execution_count": null,
   "metadata": {},
   "outputs": [],
   "source": [
    "df_model = df[cats_and_nums]"
   ]
  },
  {
   "cell_type": "code",
   "execution_count": null,
   "metadata": {},
   "outputs": [],
   "source": [
    "df_model"
   ]
  },
  {
   "cell_type": "markdown",
   "metadata": {},
   "source": [
    "`Make the predictor and the outcome variables.`\n",
    "\n",
    "`X is equal to a pandas dataframe with the chosen features and y is equal to a pandas series with status`"
   ]
  },
  {
   "cell_type": "code",
   "execution_count": null,
   "metadata": {},
   "outputs": [],
   "source": [
    "X = df[cats_and_nums[:-4]]\n",
    "y = df.status"
   ]
  },
  {
   "cell_type": "code",
   "execution_count": null,
   "metadata": {},
   "outputs": [],
   "source": [
    "X_train, X_test, y_train, y_test = train_test_split(X, y, test_size=.3, random_state=15)"
   ]
  },
  {
   "cell_type": "code",
   "execution_count": null,
   "metadata": {},
   "outputs": [],
   "source": [
    "model1 = LogisticRegression()"
   ]
  },
  {
   "cell_type": "code",
   "execution_count": null,
   "metadata": {},
   "outputs": [],
   "source": [
    "model1.fit(X_train, y_train)"
   ]
  },
  {
   "cell_type": "code",
   "execution_count": null,
   "metadata": {},
   "outputs": [],
   "source": [
    "y_pred = model1.predict(X_test)"
   ]
  },
  {
   "cell_type": "code",
   "execution_count": null,
   "metadata": {},
   "outputs": [],
   "source": [
    "accuracy_score(y_test, y_pred), model1.score(X_test, y_test)"
   ]
  },
  {
   "cell_type": "code",
   "execution_count": null,
   "metadata": {},
   "outputs": [],
   "source": [
    "#df.sign.unique()"
   ]
  },
  {
   "cell_type": "code",
   "execution_count": null,
   "metadata": {},
   "outputs": [],
   "source": [
    "sign_dict = {'gemini', 'cancer', 'pisces but it doesn&rsquo;t matter', 'pisces',\n",
    "       'aquarius', 'taurus', 'virgo', 'sagittarius',\n",
    "       'gemini but it doesn&rsquo;t matter',\n",
    "       'cancer but it doesn&rsquo;t matter',\n",
    "       'leo but it doesn&rsquo;t matter', nan,\n",
    "       'aquarius but it doesn&rsquo;t matter',\n",
    "       'aries and it&rsquo;s fun to think about',\n",
    "       'libra but it doesn&rsquo;t matter',\n",
    "       'pisces and it&rsquo;s fun to think about', 'libra',\n",
    "       'taurus but it doesn&rsquo;t matter',\n",
    "       'sagittarius but it doesn&rsquo;t matter',\n",
    "       'scorpio and it matters a lot',\n",
    "       'gemini and it&rsquo;s fun to think about',\n",
    "       'leo and it&rsquo;s fun to think about',\n",
    "       'cancer and it&rsquo;s fun to think about',\n",
    "       'libra and it&rsquo;s fun to think about',\n",
    "       'aquarius and it&rsquo;s fun to think about',\n",
    "       'virgo but it doesn&rsquo;t matter',\n",
    "       'scorpio and it&rsquo;s fun to think about',\n",
    "       'capricorn but it doesn&rsquo;t matter', 'scorpio',\n",
    "       'capricorn and it&rsquo;s fun to think about', 'leo',\n",
    "       'aries but it doesn&rsquo;t matter', 'aries',\n",
    "       'scorpio but it doesn&rsquo;t matter',\n",
    "       'sagittarius and it&rsquo;s fun to think about',\n",
    "       'libra and it matters a lot',\n",
    "       'taurus and it&rsquo;s fun to think about',\n",
    "       'leo and it matters a lot',\n",
    "       'virgo and it&rsquo;s fun to think about',\n",
    "       'cancer and it matters a lot', 'capricorn',\n",
    "       'pisces and it matters a lot', 'aries and it matters a lot',\n",
    "       'capricorn and it matters a lot', 'aquarius and it matters a lot',\n",
    "       'sagittarius and it matters a lot', 'gemini and it matters a lot',\n",
    "       'taurus and it matters a lot', 'virgo and it matters a lot'}"
   ]
  },
  {
   "cell_type": "code",
   "execution_count": null,
   "metadata": {},
   "outputs": [],
   "source": [
    "df.location.unique()"
   ]
  },
  {
   "cell_type": "code",
   "execution_count": null,
   "metadata": {},
   "outputs": [],
   "source": [
    "df.sex"
   ]
  },
  {
   "cell_type": "code",
   "execution_count": null,
   "metadata": {},
   "outputs": [],
   "source": [
    "df.columns"
   ]
  },
  {
   "cell_type": "code",
   "execution_count": null,
   "metadata": {},
   "outputs": [],
   "source": [
    "df_new = df.drop(['essay0','essay1', 'essay2', 'essay3', 'essay4', 'essay5', 'essay6', 'essay7', 'essay8', 'essay9',], axis=1)"
   ]
  },
  {
   "cell_type": "code",
   "execution_count": null,
   "metadata": {},
   "outputs": [],
   "source": [
    "df_new.head(2)"
   ]
  },
  {
   "cell_type": "code",
   "execution_count": null,
   "metadata": {},
   "outputs": [],
   "source": [
    "df_new.body_type.unique(), df_new.drugs.unique(), df_new.drinks.unique()"
   ]
  },
  {
   "cell_type": "code",
   "execution_count": null,
   "metadata": {},
   "outputs": [],
   "source": [
    "features = list(df_new.columns)"
   ]
  },
  {
   "cell_type": "code",
   "execution_count": null,
   "metadata": {},
   "outputs": [],
   "source": [
    "features"
   ]
  },
  {
   "cell_type": "code",
   "execution_count": null,
   "metadata": {},
   "outputs": [],
   "source": [
    "df_new.ethnicity.unique()"
   ]
  },
  {
   "cell_type": "code",
   "execution_count": null,
   "metadata": {},
   "outputs": [],
   "source": [
    "features.pop(6)"
   ]
  },
  {
   "cell_type": "code",
   "execution_count": null,
   "metadata": {},
   "outputs": [],
   "source": [
    "np.max(df_new.last_online.unique())"
   ]
  },
  {
   "cell_type": "code",
   "execution_count": null,
   "metadata": {},
   "outputs": [],
   "source": [
    "np.min(df_new.last_online.unique())"
   ]
  },
  {
   "cell_type": "code",
   "execution_count": null,
   "metadata": {},
   "outputs": [],
   "source": [
    "fix_features = ['age', 'height', 'income', 'sex']"
   ]
  },
  {
   "cell_type": "code",
   "execution_count": null,
   "metadata": {},
   "outputs": [],
   "source": [
    "varied_features = np.random.choice([feature for feature in features if feature != fix_features], 3)"
   ]
  },
  {
   "cell_type": "code",
   "execution_count": null,
   "metadata": {},
   "outputs": [],
   "source": [
    "final_features = fix_features + list(varied_features)"
   ]
  },
  {
   "cell_type": "code",
   "execution_count": null,
   "metadata": {},
   "outputs": [],
   "source": [
    "final_features"
   ]
  },
  {
   "cell_type": "code",
   "execution_count": null,
   "metadata": {},
   "outputs": [],
   "source": [
    "pd.get_dummies(df_new[final_features], drop_first=True)"
   ]
  },
  {
   "cell_type": "code",
   "execution_count": null,
   "metadata": {},
   "outputs": [],
   "source": [
    "df.status.unique()"
   ]
  },
  {
   "cell_type": "code",
   "execution_count": null,
   "metadata": {},
   "outputs": [],
   "source": []
  },
  {
   "cell_type": "code",
   "execution_count": null,
   "metadata": {},
   "outputs": [],
   "source": [
    "df.status.unique()"
   ]
  },
  {
   "cell_type": "code",
   "execution_count": null,
   "metadata": {},
   "outputs": [],
   "source": [
    "y = df.status"
   ]
  },
  {
   "cell_type": "code",
   "execution_count": null,
   "metadata": {},
   "outputs": [],
   "source": []
  }
 ],
 "metadata": {
  "kernelspec": {
   "display_name": "Python 3",
   "language": "python",
   "name": "python3"
  },
  "language_info": {
   "codemirror_mode": {
    "name": "ipython",
    "version": 3
   },
   "file_extension": ".py",
   "mimetype": "text/x-python",
   "name": "python",
   "nbconvert_exporter": "python",
   "pygments_lexer": "ipython3",
   "version": "3.11.4"
  }
 },
 "nbformat": 4,
 "nbformat_minor": 4
}
